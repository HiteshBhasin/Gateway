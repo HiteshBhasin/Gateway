{
 "cells": [
  {
   "cell_type": "code",
   "execution_count": null,
   "id": "b9253efe",
   "metadata": {
    "vscode": {
     "languageId": "plaintext"
    }
   },
   "outputs": [],
   "source": [
    "import cv2"
   ]
  }
 ],
 "metadata": {
  "language_info": {
   "name": "python"
  }
 },
 "nbformat": 4,
 "nbformat_minor": 5
}
